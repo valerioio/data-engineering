{
 "cells": [
  {
   "cell_type": "code",
   "execution_count": 1,
   "metadata": {},
   "outputs": [],
   "source": [
    "from pyspark.sql import SparkSession\n",
    "\n",
    "spark = SparkSession.builder.master('local[*]').appName('PySparkApplication').getOrCreate()\n",
    "sc = spark.sparkContext"
   ]
  },
  {
   "cell_type": "code",
   "execution_count": 19,
   "metadata": {},
   "outputs": [
    {
     "name": "stdout",
     "output_type": "stream",
     "text": [
      "[[0, 1, 2, 3], [4, 5, 6, 7], [8, 9, 10, 11], [12, 13, 14, 15]]\n",
      "[[0, 1, 2, 3, 4, 5, 6, 7], [8, 9, 10, 11, 12, 13, 14, 15]]\n",
      "[[8, 9, 10, 11], [], [0, 1, 2, 3, 4, 5, 6, 7], [], [], [], [12, 13, 14, 15], []]\n"
     ]
    }
   ],
   "source": [
    "rdd = sc.parallelize(list(range(16)), 4)\n",
    "print(rdd.glom().collect())\n",
    "print(rdd.coalesce(2).glom().collect())\n",
    "print(rdd.repartition(8).glom().collect())"
   ]
  },
  {
   "cell_type": "code",
   "execution_count": 30,
   "metadata": {},
   "outputs": [
    {
     "name": "stdout",
     "output_type": "stream",
     "text": [
      "150\n",
      "[0, 2, 4, 6, 8, 10, 12, 14, 1, 3, 5, 7]\n",
      "[36, 32, 28, 24]\n",
      "345345\n",
      "0\n"
     ]
    }
   ],
   "source": [
    "from operator import add, mul\n",
    "\n",
    "print(rdd\\\n",
    "\t\t  .map(lambda x: x * 2)\\\n",
    "\t\t  .filter(lambda x: x % 3)\\\n",
    "\t\t  .reduce(add)\n",
    ")\n",
    "print(rdd\\\n",
    "\t\t  .sortBy(lambda x: (x % 2) * 16 + x)\\\n",
    "\t\t  .take(12)\n",
    ")\n",
    "print(rdd\\\n",
    "\t\t  .map(lambda x: (x % 4, x))\\\n",
    "\t\t  .reduceByKey(add)\\\n",
    "\t\t  .flatMap(lambda x: x)\n",
    "\t\t  .top(4)\n",
    ")\n",
    "print(rdd\\\n",
    "\t\t  .aggregate(1, add, mul))\n",
    "print(rdd.first())"
   ]
  },
  {
   "cell_type": "code",
   "execution_count": 82,
   "metadata": {},
   "outputs": [],
   "source": [
    "spark.stop()"
   ]
  }
 ],
 "metadata": {
  "kernelspec": {
   "display_name": "Python 3",
   "language": "python",
   "name": "python3"
  },
  "language_info": {
   "codemirror_mode": {
    "name": "ipython",
    "version": 3
   },
   "file_extension": ".py",
   "mimetype": "text/x-python",
   "name": "python",
   "nbconvert_exporter": "python",
   "pygments_lexer": "ipython3",
   "version": "3.10.0"
  }
 },
 "nbformat": 4,
 "nbformat_minor": 4
}
