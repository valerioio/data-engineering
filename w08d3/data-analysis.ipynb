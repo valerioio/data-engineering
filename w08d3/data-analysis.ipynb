{
 "cells": [
  {
   "cell_type": "code",
   "execution_count": 1,
   "metadata": {},
   "outputs": [],
   "source": [
    "from pyspark.sql import SparkSession\n",
    "import pyspark.sql.functions as F\n",
    "\n",
    "spark = SparkSession.builder.master('local[*]').appName('PySparkApplication').getOrCreate()\n",
    "sc = spark.sparkContext"
   ]
  },
  {
   "cell_type": "code",
   "execution_count": 2,
   "metadata": {},
   "outputs": [],
   "source": [
    "schema = 'letter: string, number: int'\n",
    "data = [('a', 1), ('b', 2)]\n",
    "\n",
    "rdd = sc.parallelize(data)\n",
    "df = rdd.toDF(schema)\n",
    "df = spark.createDataFrame(data, schema)"
   ]
  },
  {
   "cell_type": "code",
   "execution_count": null,
   "metadata": {},
   "outputs": [],
   "source": [
    "path = 'C:/Users/bernard/Desktop/glassdoor.csv'\n",
    "df = spark.read.csv(path, header=True, inferSchema=True)\n",
    "\n",
    "df.printSchema()\n",
    "df.select(F.max(df.Age)).show()\n",
    "df = df.withColumns({\n",
    "\t'ReviewDate': F.to_date(df.ReviewDateKey, 'yyyyMMdd'),\n",
    "\t'ReviewDayOfTheWeek': F.date_format(F.to_date(df.ReviewDateKey, 'yyyyMMdd'), 'E'),\n",
    "\t'AgeGroup': F.when(df.Age < 20, 'teenager')\n",
    "\t\t\t\t.when(df.Age < 30, 'young adult')\n",
    "\t\t\t\t.when(df.Age < 40, 'adult')\n",
    "\t\t\t\t.otherwise('dead')\n",
    "})"
   ]
  },
  {
   "cell_type": "code",
   "execution_count": null,
   "metadata": {},
   "outputs": [
    {
     "name": "stdout",
     "output_type": "stream",
     "text": [
      "+-----------+------+-------------+-----------------+\n",
      "|   AgeGroup|Gender|MaritalStatus|NumberOfEmployees|\n",
      "+-----------+------+-------------+-----------------+\n",
      "|      adult|Female|     Divorced|               16|\n",
      "|      adult|Female|      Married|               30|\n",
      "|      adult|Female|       Single|               38|\n",
      "|      adult|  Male|     Divorced|               31|\n",
      "|      adult|  Male|      Married|               57|\n",
      "|      adult|  Male|       Single|               41|\n",
      "|       dead|Female|     Divorced|               15|\n",
      "|       dead|Female|      Married|               24|\n",
      "|       dead|Female|       Single|               24|\n",
      "|       dead|  Male|     Divorced|               23|\n",
      "|       dead|  Male|      Married|               42|\n",
      "|       dead|  Male|       Single|               28|\n",
      "|   teenager|Female|       Single|                5|\n",
      "|   teenager|  Male|       Single|                7|\n",
      "|young adult|Female|     Divorced|                8|\n",
      "|young adult|Female|      Married|               16|\n",
      "|young adult|Female|       Single|               22|\n",
      "|young adult|  Male|     Divorced|               13|\n",
      "|young adult|  Male|      Married|               30|\n",
      "|young adult|  Male|       Single|               30|\n",
      "+-----------+------+-------------+-----------------+\n",
      "\n"
     ]
    }
   ],
   "source": [
    "df\\\n",
    "\t.groupBy('AgeGroup', 'Gender', 'MaritalStatus')\\\n",
    "\t.count()\\\n",
    "\t.withColumnRenamed('count', 'NumberOfEmployees')\\\n",
    "\t.orderBy('AgeGroup', 'Gender', 'MaritalStatus')\\\n",
    "\t.show()"
   ]
  },
  {
   "cell_type": "code",
   "execution_count": 18,
   "metadata": {},
   "outputs": [
    {
     "name": "stdout",
     "output_type": "stream",
     "text": [
      "+------+--------+--------------+--------------------+--------------------+\n",
      "|Gender|AgeGroup|YearsAtCompany|AverageMonthlyIncome|MinimumMonthlyIncome|\n",
      "+------+--------+--------------+--------------------+--------------------+\n",
      "|Female|   adult|             1|              3149.0|                1261|\n",
      "|Female|   adult|             2|              2958.5|                2014|\n",
      "|Female|   adult|             3|              3860.4|                2232|\n",
      "|Female|   adult|             4|             3676.25|                2231|\n",
      "|Female|   adult|             5|   5546.285714285715|                2132|\n",
      "|Female|   adult|             6|              5560.5|                4425|\n",
      "|Female|   adult|             7|              7045.0|                4084|\n",
      "|Female|   adult|             8|  4079.8333333333335|                2153|\n",
      "|Female|   adult|             9|             6779.25|                2707|\n",
      "|Female|   adult|            10|   7161.454545454545|                2022|\n",
      "|Female|   adult|            11|             7101.75|                4424|\n",
      "|Female|   adult|            12|              8002.5|                4011|\n",
      "|Female|   adult|            13|   5021.666666666667|                4508|\n",
      "|Female|   adult|            15|   7986.333333333333|                4599|\n",
      "|Female|   adult|            16|              4809.0|                4809|\n",
      "|Female|   adult|            17|   4984.666666666667|                2115|\n",
      "|Female|   adult|            19|             10938.0|               10938|\n",
      "|Female|    dead|             1|   9009.142857142857|                2670|\n",
      "|Female|    dead|             2|              8906.0|                3212|\n",
      "|Female|    dead|             3|            12198.25|                4739|\n",
      "+------+--------+--------------+--------------------+--------------------+\n",
      "only showing top 20 rows\n",
      "\n"
     ]
    }
   ],
   "source": [
    "df\\\n",
    "\t.groupBy('Gender', 'AgeGroup', 'YearsAtCompany')\\\n",
    "\t.agg(F.mean('MonthlyIncome').alias('AverageMonthlyIncome'), F.min('MonthlyIncome').alias('MinimumMonthlyIncome'))\\\n",
    "\t.orderBy('Gender', 'AgeGroup', 'YearsAtCompany')\\\n",
    "\t.show()"
   ]
  },
  {
   "cell_type": "code",
   "execution_count": 22,
   "metadata": {},
   "outputs": [
    {
     "name": "stdout",
     "output_type": "stream",
     "text": [
      "+----------------+--------------------+-----------------+\n",
      "|  EducationField|          Department|NumberOfEmployees|\n",
      "+----------------+--------------------+-----------------+\n",
      "| Human Resources|     Human Resources|                7|\n",
      "|   Life Sciences|     Human Resources|                2|\n",
      "|   Life Sciences|Research & Develo...|              151|\n",
      "|   Life Sciences|               Sales|               49|\n",
      "|       Marketing|               Sales|               58|\n",
      "|         Medical|     Human Resources|                3|\n",
      "|         Medical|Research & Develo...|              129|\n",
      "|         Medical|               Sales|               27|\n",
      "|           Other|Research & Develo...|               18|\n",
      "|           Other|               Sales|                5|\n",
      "|Technical Degree|     Human Resources|                3|\n",
      "|Technical Degree|Research & Develo...|               34|\n",
      "|Technical Degree|               Sales|               14|\n",
      "+----------------+--------------------+-----------------+\n",
      "\n"
     ]
    }
   ],
   "source": [
    "df\\\n",
    "\t.groupBy('EducationField', 'Department')\\\n",
    "\t.count()\\\n",
    "\t.withColumnRenamed('count', 'NumberOfEmployees')\\\n",
    "\t.orderBy('EducationField', 'Department')\\\n",
    "\t.show()"
   ]
  },
  {
   "cell_type": "code",
   "execution_count": null,
   "metadata": {},
   "outputs": [],
   "source": [
    "df\\\n",
    "\t.groupBy('ReviewDayOfTheWeek')\\\n",
    "\t.count()\\\n",
    "\t.withColumnRenamed('count', 'NumberOfReviews')\\\n",
    "\t.orderBy('NumberOfReviews', ascending=False)\\\n",
    "\t.show()"
   ]
  },
  {
   "cell_type": "code",
   "execution_count": null,
   "metadata": {},
   "outputs": [],
   "source": [
    "spark.stop()"
   ]
  }
 ],
 "metadata": {
  "kernelspec": {
   "display_name": "Python 3",
   "language": "python",
   "name": "python3"
  },
  "language_info": {
   "codemirror_mode": {
    "name": "ipython",
    "version": 3
   },
   "file_extension": ".py",
   "mimetype": "text/x-python",
   "name": "python",
   "nbconvert_exporter": "python",
   "pygments_lexer": "ipython3",
   "version": "3.10.0"
  }
 },
 "nbformat": 4,
 "nbformat_minor": 4
}
